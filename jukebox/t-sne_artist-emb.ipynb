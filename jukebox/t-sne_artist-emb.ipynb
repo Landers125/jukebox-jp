{
  "nbformat": 4,
  "nbformat_minor": 2,
  "metadata": {
    "colab": {
      "name": "Interacting with Jukebox のコピー",
      "provenance": [],
      "collapsed_sections": [],
      "machine_shape": "hm"
    },
    "kernelspec": {
      "name": "python3",
      "display_name": "Python 3.7.5 64-bit ('jukebox': conda)"
    },
    "accelerator": "GPU",
    "language_info": {
      "name": "python",
      "version": "3.7.5",
      "mimetype": "text/x-python",
      "codemirror_mode": {
        "name": "ipython",
        "version": 3
      },
      "pygments_lexer": "ipython3",
      "nbconvert_exporter": "python",
      "file_extension": ".py"
    },
    "interpreter": {
      "hash": "c90eb8f8561f0af929f2cac9aaf2374f2bc9be7058629efef9e1bfeed0045693"
    }
  },
  "cells": [
    {
      "cell_type": "code",
      "execution_count": 1,
      "source": [
        "import jukebox\n",
        "import torch as t\n",
        "import librosa\n",
        "import os\n",
        "from IPython.display import Audio\n",
        "from jukebox.make_models import make_vqvae, make_prior, MODELS, make_model\n",
        "from jukebox.hparams import Hyperparams, setup_hparams\n",
        "from jukebox.sample import sample_single_window, _sample, \\\n",
        "                           sample_partial_window, upsample\n",
        "from jukebox.utils.dist_utils import setup_dist_from_mpi\n",
        "from jukebox.utils.torch_utils import empty_cache\n",
        "rank, local_rank, device = setup_dist_from_mpi()"
      ],
      "outputs": [
        {
          "output_type": "stream",
          "name": "stdout",
          "text": [
            "Using cuda True\n"
          ]
        }
      ],
      "metadata": {
        "id": "taDHgk1WCC_C"
      }
    },
    {
      "cell_type": "markdown",
      "source": [
        "# Sample from the 5B or 1B Lyrics Model\n",
        "5Bまたは1Bの歌詞モデルからのサンプル\n"
      ],
      "metadata": {
        "id": "89FftI5kc-Az"
      }
    },
    {
      "cell_type": "code",
      "execution_count": 7,
      "source": [
        "model = \"1b_lyrics_finetune_roma_11708\" # or \"1b_lyrics\"     \n",
        "hps = Hyperparams()\n",
        "hps.sr = 44100\n",
        "hps.n_samples = 3 if model=='5b_lyrics' else 8\n",
        "hps.name = 'samples'\n",
        "chunk_size = 16 if model==\"5b_lyrics\" else 32\n",
        "max_batch_size = 3 if model==\"5b_lyrics\" else 16\n",
        "hps.levels = 3\n",
        "hps.hop_fraction = [.5,.5,.125]\n",
        "\n",
        "vqvae, *priors = MODELS[model]\n",
        "vqvae = make_vqvae(setup_hparams(vqvae, dict(sample_length = 1048576)), device)\n",
        "top_prior = make_prior(setup_hparams(priors[-1], dict()), vqvae, device)\n",
        "\n"
      ],
      "outputs": [
        {
          "output_type": "stream",
          "name": "stdout",
          "text": [
            "Downloading from azure\n",
            "Restored from /root/.cache/jukebox/models/5b/vqvae.pth.tar\n",
            "0: Loading vqvae in eval mode\n",
            "【hps.jp_lyrics】 : False\n",
            "Creating cond. autoregress with prior bins [79, 2048], \n",
            "dims [384, 6144], \n",
            "shift [ 0 79]\n",
            "input shape 6528\n",
            "input bins 2127\n",
            "Self copy is False\n",
            "using /workspace/jukebox/data/ids/v3_artist_ids.txt\n",
            "Loading artist IDs from /workspace/jukebox/data/ids/v3_artist_ids.txt\n",
            "Loading artist IDs from /workspace/jukebox/data/ids/v3_genre_ids.txt\n",
            "【n_vocab】 : 79\n",
            "Level:2, Cond downsample:None, Raw to tokens:128, Sample length:786432\n",
            "Restored from /workspace/logs/finetuned_11708_20210711/checkpoint_epoch_24.pth.tar\n",
            "0: Loading prior in eval mode\n"
          ]
        }
      ],
      "metadata": {
        "id": "65aR2OZxmfzq"
      }
    },
    {
      "cell_type": "markdown",
      "source": [
        "## Artist Embeddingを可視化"
      ],
      "metadata": {}
    },
    {
      "cell_type": "code",
      "execution_count": 8,
      "source": [
        "params = top_prior.y_emb.artist_emb.state_dict()\n",
        "artist_emb_np = params['emb.weight'].to('cpu').detach().numpy().copy()"
      ],
      "outputs": [],
      "metadata": {}
    },
    {
      "cell_type": "code",
      "execution_count": 9,
      "source": [
        "print(f\"(artist, prior_width) : {artist_emb_np.shape}\")"
      ],
      "outputs": [
        {
          "output_type": "stream",
          "name": "stdout",
          "text": [
            "(artist, prior_width) : (7898, 2048)\n"
          ]
        }
      ],
      "metadata": {}
    },
    {
      "cell_type": "code",
      "execution_count": 10,
      "source": [
        "import numpy as np\n",
        "np.save('./weights_np/roma_artist_emb.npy', artist_emb_np)"
      ],
      "outputs": [],
      "metadata": {}
    },
    {
      "cell_type": "code",
      "execution_count": 6,
      "source": [
        "artist_emb_np"
      ],
      "outputs": [
        {
          "output_type": "execute_result",
          "data": {
            "text/plain": [
              "array([[ 4.72012348e-03,  5.45738731e-03,  1.12937670e-02, ...,\n",
              "         4.06365981e-03,  4.18949639e-03,  1.41272740e-03],\n",
              "       [-2.93332938e-04,  2.04770570e-03, -1.31708002e-02, ...,\n",
              "        -1.08278217e-03, -1.36694161e-03, -4.31381445e-03],\n",
              "       [ 1.51319522e-02,  3.69301392e-03,  6.83256658e-03, ...,\n",
              "         2.66497508e-02,  3.30203515e-03, -4.24456829e-03],\n",
              "       ...,\n",
              "       [ 1.10084107e-02,  1.13135790e-02, -8.07391573e-03, ...,\n",
              "         2.60757282e-02, -7.91268796e-03, -9.48189478e-03],\n",
              "       [-2.89823045e-04,  1.98168127e-04, -5.12999657e-04, ...,\n",
              "         9.04048356e-05, -4.27678679e-05, -1.17053365e-04],\n",
              "       [ 8.55198305e-05,  2.71445839e-04, -1.02780410e-04, ...,\n",
              "         2.10192666e-04, -1.44701742e-04, -8.72013406e-05]], dtype=float32)"
            ]
          },
          "metadata": {},
          "execution_count": 6
        }
      ],
      "metadata": {}
    },
    {
      "cell_type": "markdown",
      "source": [
        "### T-SNEで可視化"
      ],
      "metadata": {}
    },
    {
      "cell_type": "code",
      "execution_count": 7,
      "source": [
        "import numpy as np\n",
        "from sklearn.manifold import TSNE"
      ],
      "outputs": [],
      "metadata": {}
    },
    {
      "cell_type": "code",
      "execution_count": 8,
      "source": [
        "\n",
        "artist_emb_tsne = TSNE(n_components=2).fit_transform(artist_emb_np)\n",
        "print(artist_emb_tsne.shape)"
      ],
      "outputs": [
        {
          "output_type": "stream",
          "name": "stdout",
          "text": [
            "(7898, 2)\n"
          ]
        }
      ],
      "metadata": {}
    },
    {
      "cell_type": "code",
      "execution_count": null,
      "source": [],
      "outputs": [],
      "metadata": {}
    }
  ]
}