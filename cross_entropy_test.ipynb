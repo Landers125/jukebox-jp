{
    "cells": [
        {
            "cell_type": "code",
            "execution_count": 1,
            "source": [
                "import torch\n",
                "import torch.nn.functional as F "
            ],
            "outputs": [],
            "metadata": {}
        },
        {
            "cell_type": "code",
            "execution_count": 4,
            "source": [
                "input = torch.randn(3, 5, requires_grad=True)\n",
                "target = torch.randint(5, (3,), dtype=torch.int64)\n",
                "\n",
                "print(f\"<Input>\")\n",
                "print(input.shape)\n",
                "print(input)\n",
                "print(f\"\\n<Target>\")\n",
                "print(target.shape)\n",
                "print(target)"
            ],
            "outputs": [
                {
                    "output_type": "stream",
                    "name": "stdout",
                    "text": [
                        "<Input>\n",
                        "torch.Size([3, 5])\n",
                        "tensor([[ 0.0346, -0.0877, -0.6909, -0.1006, -0.0159],\n",
                        "        [-0.8845,  1.1578,  1.5181,  0.3616, -0.2740],\n",
                        "        [-0.0988,  0.7791, -0.0324, -0.4360,  0.0198]], requires_grad=True)\n",
                        "\n",
                        "<Target>\n",
                        "torch.Size([3])\n",
                        "tensor([2, 0, 4])\n"
                    ]
                }
            ],
            "metadata": {}
        },
        {
            "cell_type": "code",
            "execution_count": null,
            "source": [],
            "outputs": [],
            "metadata": {}
        }
    ],
    "metadata": {
        "orig_nbformat": 4,
        "language_info": {
            "name": "python",
            "version": "3.7.5",
            "mimetype": "text/x-python",
            "codemirror_mode": {
                "name": "ipython",
                "version": 3
            },
            "pygments_lexer": "ipython3",
            "nbconvert_exporter": "python",
            "file_extension": ".py"
        },
        "kernelspec": {
            "name": "python3",
            "display_name": "Python 3.7.5 64-bit ('jukebox': conda)"
        },
        "interpreter": {
            "hash": "c90eb8f8561f0af929f2cac9aaf2374f2bc9be7058629efef9e1bfeed0045693"
        }
    },
    "nbformat": 4,
    "nbformat_minor": 2
}